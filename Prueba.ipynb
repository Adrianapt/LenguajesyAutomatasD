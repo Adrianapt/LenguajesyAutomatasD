{
 "cells": [
  {
   "cell_type": "markdown",
   "id": "f56e60c8",
   "metadata": {},
   "source": [
    "# PRUEBA 01"
   ]
  },
  {
   "cell_type": "code",
   "execution_count": 4,
   "id": "5a68a965",
   "metadata": {},
   "outputs": [
    {
     "name": "stdout",
     "output_type": "stream",
     "text": [
      "prueba\n"
     ]
    }
   ],
   "source": [
    "print (\"prueba\")\n",
    "x = 1+1"
   ]
  },
  {
   "cell_type": "code",
   "execution_count": 5,
   "id": "7cb1a246",
   "metadata": {},
   "outputs": [
    {
     "name": "stdout",
     "output_type": "stream",
     "text": [
      "suma\n"
     ]
    }
   ],
   "source": [
    "print (\"suma\")"
   ]
  },
  {
   "cell_type": "code",
   "execution_count": 6,
   "id": "4a4e9090",
   "metadata": {},
   "outputs": [
    {
     "name": "stdout",
     "output_type": "stream",
     "text": [
      "resultado: 2\n"
     ]
    }
   ],
   "source": [
    "print (\"resultado:\", x) "
   ]
  },
  {
   "cell_type": "code",
   "execution_count": null,
   "id": "7a6fe161",
   "metadata": {},
   "outputs": [],
   "source": []
  }
 ],
 "metadata": {
  "kernelspec": {
   "display_name": "Python 3 (ipykernel)",
   "language": "python",
   "name": "python3"
  },
  "language_info": {
   "codemirror_mode": {
    "name": "ipython",
    "version": 3
   },
   "file_extension": ".py",
   "mimetype": "text/x-python",
   "name": "python",
   "nbconvert_exporter": "python",
   "pygments_lexer": "ipython3",
   "version": "3.9.9"
  }
 },
 "nbformat": 4,
 "nbformat_minor": 5
}
